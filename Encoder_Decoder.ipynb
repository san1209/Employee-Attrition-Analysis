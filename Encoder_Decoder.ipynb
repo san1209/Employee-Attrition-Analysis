{
  "nbformat": 4,
  "nbformat_minor": 0,
  "metadata": {
    "colab": {
      "provenance": []
    },
    "kernelspec": {
      "name": "python3",
      "display_name": "Python 3"
    },
    "language_info": {
      "name": "python"
    }
  },
  "cells": [
    {
      "cell_type": "markdown",
      "source": [
        "###1.Load & Preprocess Large Text"
      ],
      "metadata": {
        "id": "zflJnc_sRszZ"
      }
    },
    {
      "cell_type": "code",
      "source": [
        "import matplotlib.pyplot as plt\n",
        "import seaborn as sns"
      ],
      "metadata": {
        "id": "IL5Lh8Y-XDCa"
      },
      "execution_count": 56,
      "outputs": []
    },
    {
      "cell_type": "code",
      "execution_count": 52,
      "metadata": {
        "colab": {
          "base_uri": "https://localhost:8080/"
        },
        "id": "vgiT7qL8PDNi",
        "outputId": "c397002b-b7cc-42f6-e1b5-c97d0ed6b0c2"
      },
      "outputs": [
        {
          "output_type": "stream",
          "name": "stdout",
          "text": [
            "Sample: First Citizen:\n"
          ]
        }
      ],
      "source": [
        "import requests\n",
        "\n",
        "# Download file\n",
        "url = \"https://storage.googleapis.com/download.tensorflow.org/data/shakespeare.txt\"\n",
        "response = requests.get(url)\n",
        "text_data = response.text\n",
        "\n",
        "# Break into manageable chunks (optional)\n",
        "texts = text_data.split(\"\\n\")\n",
        "texts = [line.strip() for line in texts if len(line.strip()) > 10]  # Filter short ones\n",
        "texts = texts[:50]  # Limit for demo/testing\n",
        "\n",
        "print(\"Sample:\", texts[0])\n"
      ]
    },
    {
      "cell_type": "code",
      "source": [],
      "metadata": {
        "id": "yITtoZyPUzgy"
      },
      "execution_count": null,
      "outputs": []
    },
    {
      "cell_type": "markdown",
      "source": [
        "###2.Load Translation Model with Attention"
      ],
      "metadata": {
        "id": "8pbv_tU7RvRE"
      }
    },
    {
      "cell_type": "code",
      "source": [
        "from transformers import MarianMTModel, MarianTokenizer\n",
        "\n",
        "# Load pretrained English-to-French model\n",
        "model_name = \"Helsinki-NLP/opus-mt-en-fr\"\n",
        "tokenizer = MarianTokenizer.from_pretrained(model_name)\n",
        "model = MarianMTModel.from_pretrained(model_name)\n"
      ],
      "metadata": {
        "id": "vceFvEXrPQWa"
      },
      "execution_count": 53,
      "outputs": []
    },
    {
      "cell_type": "markdown",
      "source": [
        "###3.Translate Large Batch with Attention"
      ],
      "metadata": {
        "id": "XcuxT8YUR48T"
      }
    },
    {
      "cell_type": "code",
      "source": [
        "translated_lines = []\n",
        "\n",
        "for line in texts:\n",
        "    inputs = tokenizer(line, return_tensors=\"pt\", truncation=True, padding=True, max_length=512)\n",
        "    translated_tokens = model.generate(**inputs)\n",
        "    french = tokenizer.decode(translated_tokens[0], skip_special_tokens=True)\n",
        "    translated_lines.append((line, french))\n",
        "\n",
        "# Show a few\n",
        "for i in range(25):\n",
        "    print(\"EN:\", translated_lines[i][0])\n",
        "    print(\"FR:\", translated_lines[i][1])\n",
        "    print()\n"
      ],
      "metadata": {
        "colab": {
          "base_uri": "https://localhost:8080/"
        },
        "id": "UzilxDCCZIcR",
        "outputId": "7c2d6b14-73ad-4a38-8b0e-c3e6d6d910ef"
      },
      "execution_count": 54,
      "outputs": [
        {
          "output_type": "stream",
          "name": "stdout",
          "text": [
            "EN: First Citizen:\n",
            "FR: Premier citoyen :\n",
            "\n",
            "EN: Before we proceed any further, hear me speak.\n",
            "FR: Avant d'aller plus loin, écoutez-moi parler.\n",
            "\n",
            "EN: Speak, speak.\n",
            "FR: Parle, parle.\n",
            "\n",
            "EN: First Citizen:\n",
            "FR: Premier citoyen :\n",
            "\n",
            "EN: You are all resolved rather to die than to famish?\n",
            "FR: Vous êtes tous résolus à mourir plutôt qu'à la famille ?\n",
            "\n",
            "EN: Resolved. resolved.\n",
            "FR: Résolue. résolue.\n",
            "\n",
            "EN: First Citizen:\n",
            "FR: Premier citoyen :\n",
            "\n",
            "EN: First, you know Caius Marcius is chief enemy to the people.\n",
            "FR: Tout d'abord, vous savez que Caius Marcius est l'ennemi principal du peuple.\n",
            "\n",
            "EN: We know't, we know't.\n",
            "FR: Nous ne le savons pas, nous ne le savons pas.\n",
            "\n",
            "EN: First Citizen:\n",
            "FR: Premier citoyen :\n",
            "\n",
            "EN: Let us kill him, and we'll have corn at our own price.\n",
            "FR: Tuons-le, et nous aurons du maïs à notre propre prix.\n",
            "\n",
            "EN: Is't a verdict?\n",
            "FR: N'est-ce pas un verdict ?\n",
            "\n",
            "EN: No more talking on't; let it be done: away, away!\n",
            "FR: N'en parlons plus, que ce soit fait: loin, loin!\n",
            "\n",
            "EN: Second Citizen:\n",
            "FR: Deuxième citoyen :\n",
            "\n",
            "EN: One word, good citizens.\n",
            "FR: Un mot, de bons citoyens.\n",
            "\n",
            "EN: First Citizen:\n",
            "FR: Premier citoyen :\n",
            "\n",
            "EN: We are accounted poor citizens, the patricians good.\n",
            "FR: Nous sommes considérés comme des citoyens pauvres, les patriciens bons.\n",
            "\n",
            "EN: What authority surfeits on would relieve us: if they\n",
            "FR: Quelle autorité surfe sur nous soulagerait: s'ils\n",
            "\n",
            "EN: would yield us but the superfluity, while it were\n",
            "FR: ne nous donnerait que la superflue, alors qu'il était\n",
            "\n",
            "EN: wholesome, we might guess they relieved us humanely;\n",
            "FR: On pourrait supposer qu'ils nous ont soulagés humainement.\n",
            "\n",
            "EN: but they think we are too dear: the leanness that\n",
            "FR: mais ils pensent que nous sommes trop chers: la maigreur qui\n",
            "\n",
            "EN: afflicts us, the object of our misery, is as an\n",
            "FR: nous afflige, l'objet de notre misère, est comme un\n",
            "\n",
            "EN: inventory to particularise their abundance; our\n",
            "FR: stock pour particulieriser leur abondance; notre\n",
            "\n",
            "EN: sufferance is a gain to them Let us revenge this with\n",
            "FR: La souffrance est un gain pour eux\n",
            "\n",
            "EN: our pikes, ere we become rakes: for the gods know I\n",
            "FR: Nos piques, nous devenons des râteaux, car les dieux savent que je\n",
            "\n"
          ]
        }
      ]
    }
  ]
}